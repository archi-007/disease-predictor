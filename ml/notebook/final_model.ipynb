{
 "cells": [
  {
   "cell_type": "code",
   "execution_count": 2,
   "metadata": {},
   "outputs": [],
   "source": [
    "import pandas as pd\n",
    "import numpy as np\n",
    "import joblib "
   ]
  },
  {
   "cell_type": "code",
   "execution_count": 3,
   "metadata": {},
   "outputs": [],
   "source": [
    "dataset = pd.read_csv('final_disease_set.csv')"
   ]
  },
  {
   "cell_type": "code",
   "execution_count": 4,
   "metadata": {},
   "outputs": [],
   "source": [
    "X = dataset.iloc[:, :-1].values\n",
    "y = dataset.iloc[:, -1].values"
   ]
  },
  {
   "cell_type": "code",
   "execution_count": 5,
   "metadata": {},
   "outputs": [
    {
     "output_type": "execute_result",
     "data": {
      "text/plain": "array([[  0,   0,   0, ...,   0,   0,   0],\n       [  1,   0,   0, ...,   0,   0,   0],\n       [  2,   0,   0, ...,   0,   1,   0],\n       ...,\n       [146,   0,   0, ...,   0,   1,   0],\n       [147,   0,   0, ...,   0,   0,   0],\n       [148,   0,   0, ...,   0,   0,   0]], dtype=int64)"
     },
     "metadata": {},
     "execution_count": 5
    }
   ],
   "source": [
    "X"
   ]
  },
  {
   "cell_type": "code",
   "execution_count": 6,
   "metadata": {},
   "outputs": [
    {
     "output_type": "execute_result",
     "data": {
      "text/plain": "array(['hypertensive disease', 'diabetes', 'depression mental',\n       'depressive disorder', 'coronary arteriosclerosis',\n       'coronary heart disease', 'pneumonia', 'failure heart congestive',\n       'accident\\xa0cerebrovascular', 'asthma', 'myocardial infarction',\n       'hypercholesterolemia', 'infection', 'infection urinary tract',\n       'anemia', 'chronic obstructive airway disease', 'dementia',\n       'insufficiency renal', 'confusion',\n       'degenerative\\xa0polyarthritis', 'hypothyroidism', 'anxiety state',\n       'malignant neoplasms', 'primary malignant neoplasm',\n       'acquired\\xa0immuno-deficiency syndrome', 'HIV', 'hiv infections',\n       'cellulitis', 'gastroesophageal reflux disease', 'septicemia',\n       'systemic infection', 'sepsis (invertebrate)',\n       'deep vein thrombosis', 'dehydration', 'neoplasm',\n       'embolism pulmonary', 'epilepsy', 'cardiomyopathy',\n       'chronic kidney failure', 'carcinoma', 'hepatitis C',\n       'peripheral vascular disease', 'psychotic disorder',\n       'hyperlipidemia', 'bipolar disorder', 'obesity', 'ischemia',\n       'cirrhosis', 'exanthema', 'benign prostatic hypertrophy',\n       'kidney failure acute', 'mitral valve insufficiency', 'arthritis',\n       'bronchitis', 'hemiparesis', 'osteoporosis',\n       'transient ischemic attack', 'adenocarcinoma', 'paranoia',\n       'pancreatitis', 'incontinence', 'paroxysmal\\xa0dyspnea', 'hernia',\n       'malignant neoplasm of prostate', 'carcinoma prostate',\n       'edema pulmonary', 'lymphatic diseases', 'stenosis aortic valve',\n       'malignant neoplasm of breast', 'carcinoma breast',\n       'schizophrenia', 'diverticulitis', 'overload fluid',\n       'ulcer peptic', 'osteomyelitis', 'gastritis', 'bacteremia',\n       'failure kidney', 'sickle cell anemia', 'failure heart',\n       'upper respiratory infection', 'hepatitis',\n       'hypertension pulmonary', 'deglutition disorder', 'gout',\n       'thrombocytopaenia', 'hypoglycemia', 'pneumonia aspiration',\n       'colitis', 'diverticulosis', 'suicide attempt',\n       'Pneumocystis\\xa0carinii\\xa0pneumonia', 'hepatitis B',\n       'parkinson disease', 'lymphoma', 'hyperglycemia', 'encephalopathy',\n       'tricuspid valve insufficiency', \"Alzheimer's disease\",\n       'candidiasis', 'oralcandidiasis', 'neuropathy', 'kidney disease',\n       'fibroid tumor', 'glaucoma', 'neoplasm metastasis',\n       'malignant tumor of colon', 'carcinoma colon',\n       'ketoacidosis diabetic', 'tonic-clonic epilepsy',\n       'tonic-clonic seizures', 'malignant\\xa0neoplasms',\n       'respiratory failure', 'melanoma', 'gastroenteritis',\n       'malignant neoplasm of lung', 'carcinoma of lung',\n       'manic disorder', 'personality disorder',\n       'primary carcinoma of the liver cells', 'emphysema pulmonary',\n       'hemorrhoids', 'spasm bronchial', 'aphasia', 'obesity morbid',\n       'pyelonephritis', 'endocarditis', 'effusion pericardial',\n       'pericardial effusion body substance',\n       'chronic alcoholic intoxication', 'pneumothorax', 'delirium',\n       'neutropenia', 'hyperbilirubinemia', 'influenza', 'dependence',\n       'thrombus', 'cholecystitis', 'hernia\\xa0hiatal',\n       'migraine disorders', 'pancytopenia', 'cholelithiasis',\n       'biliary calculus', 'tachycardia sinus', 'ileus', 'adhesion',\n       'delusion', 'affect labile', 'decubitus ulcer'], dtype=object)"
     },
     "metadata": {},
     "execution_count": 6
    }
   ],
   "source": [
    "y"
   ]
  },
  {
   "cell_type": "code",
   "execution_count": 23,
   "metadata": {},
   "outputs": [],
   "source": [
    "from sklearn.naive_bayes import GaussianNB"
   ]
  },
  {
   "cell_type": "code",
   "execution_count": 24,
   "metadata": {},
   "outputs": [],
   "source": [
    "gnb = GaussianNB()"
   ]
  },
  {
   "cell_type": "code",
   "execution_count": 25,
   "metadata": {},
   "outputs": [
    {
     "output_type": "execute_result",
     "data": {
      "text/plain": "GaussianNB(priors=None, var_smoothing=1e-09)"
     },
     "metadata": {},
     "execution_count": 25
    }
   ],
   "source": [
    "gnb.fit(X, y)"
   ]
  },
  {
   "cell_type": "code",
   "execution_count": 27,
   "metadata": {},
   "outputs": [
    {
     "output_type": "execute_result",
     "data": {
      "text/plain": "array(['depression mental'], dtype='<U36')"
     },
     "metadata": {},
     "execution_count": 27
    }
   ],
   "source": [
    "gnb.predict(X[[2]])"
   ]
  },
  {
   "cell_type": "code",
   "execution_count": null,
   "metadata": {},
   "outputs": [],
   "source": []
  }
 ],
 "metadata": {
  "language_info": {
   "codemirror_mode": {
    "name": "ipython",
    "version": 3
   },
   "file_extension": ".py",
   "mimetype": "text/x-python",
   "name": "python",
   "nbconvert_exporter": "python",
   "pygments_lexer": "ipython3",
   "version": "3.7.7-final"
  },
  "orig_nbformat": 2,
  "kernelspec": {
   "name": "python37764bittlolconda51ce58dd8e094cb8ae9dc277c4e8c3e4",
   "display_name": "Python 3.7.7 64-bit ('tlol': conda)"
  }
 },
 "nbformat": 4,
 "nbformat_minor": 2
}